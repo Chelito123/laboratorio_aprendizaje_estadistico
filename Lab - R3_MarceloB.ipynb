{
 "cells": [
  {
   "cell_type": "markdown",
   "id": "de16ac05-1760-49ad-b40c-327a96a8e846",
   "metadata": {},
   "source": [
    "# Laboratorio de regresión - 3"
   ]
  },
  {
   "cell_type": "markdown",
   "id": "1db0fb70-ca43-47f7-bbfd-fd06ca0e25f2",
   "metadata": {},
   "source": [
    "## Significancia de factores"
   ]
  },
  {
   "cell_type": "markdown",
   "id": "6043c593-39d1-405c-b92e-487314170cf6",
   "metadata": {},
   "source": [
    "|                |   |\n",
    ":----------------|---|\n",
    "| **Nombre**     | Adrian Marcelo Ballesteros Herrera  |\n",
    "| **Fecha**      |  1/09/2025 |\n",
    "| **Expediente** | 750743 |"
   ]
  },
  {
   "cell_type": "markdown",
   "id": "2cfabde4-866e-4f00-8a37-9d57f2bebbb6",
   "metadata": {},
   "source": [
    "Descarga el archivo de publicidad y carga los datos (Advertising.csv)."
   ]
  },
  {
   "cell_type": "code",
   "execution_count": 64,
   "id": "07527ab6-7c18-48b5-9779-d5e6e5da289b",
   "metadata": {},
   "outputs": [],
   "source": [
    "import pandas as pd\n",
    "import numpy as np\n",
    "import matplotlib.pyplot as plt\n",
    "from sklearn.linear_model import LinearRegression"
   ]
  },
  {
   "cell_type": "markdown",
   "id": "2c878204",
   "metadata": {},
   "source": [
    "### Anotaciones marcelo\n",
    "\n",
    "errores comunes al hacer una regresion lineal *Overfitting* y *Overflow*. el overfitting es cuando haces una regresion de demasiados grados para que de una $R^2$ muy baja pero no expresa correctamente los datos y el overflow es cuando se te rompe el codigo por que los numeros son muy altos por la matriz de grados muy altos."
   ]
  },
  {
   "cell_type": "code",
   "execution_count": 65,
   "id": "f76bcb16-5b02-42aa-846f-fb890b34af26",
   "metadata": {},
   "outputs": [],
   "source": [
    "datos=pd.read_csv(r'D:\\Advertising.csv')"
   ]
  },
  {
   "cell_type": "code",
   "execution_count": 66,
   "id": "0769d0e1-47cc-4ccc-9066-3f3a06dbe283",
   "metadata": {},
   "outputs": [
    {
     "data": {
      "text/html": [
       "<div>\n",
       "<style scoped>\n",
       "    .dataframe tbody tr th:only-of-type {\n",
       "        vertical-align: middle;\n",
       "    }\n",
       "\n",
       "    .dataframe tbody tr th {\n",
       "        vertical-align: top;\n",
       "    }\n",
       "\n",
       "    .dataframe thead th {\n",
       "        text-align: right;\n",
       "    }\n",
       "</style>\n",
       "<table border=\"1\" class=\"dataframe\">\n",
       "  <thead>\n",
       "    <tr style=\"text-align: right;\">\n",
       "      <th></th>\n",
       "      <th>Unnamed: 0</th>\n",
       "      <th>TV</th>\n",
       "      <th>radio</th>\n",
       "      <th>newspaper</th>\n",
       "      <th>sales</th>\n",
       "    </tr>\n",
       "  </thead>\n",
       "  <tbody>\n",
       "    <tr>\n",
       "      <th>0</th>\n",
       "      <td>1</td>\n",
       "      <td>230.1</td>\n",
       "      <td>37.8</td>\n",
       "      <td>69.2</td>\n",
       "      <td>22.1</td>\n",
       "    </tr>\n",
       "    <tr>\n",
       "      <th>1</th>\n",
       "      <td>2</td>\n",
       "      <td>44.5</td>\n",
       "      <td>39.3</td>\n",
       "      <td>45.1</td>\n",
       "      <td>10.4</td>\n",
       "    </tr>\n",
       "    <tr>\n",
       "      <th>2</th>\n",
       "      <td>3</td>\n",
       "      <td>17.2</td>\n",
       "      <td>45.9</td>\n",
       "      <td>69.3</td>\n",
       "      <td>9.3</td>\n",
       "    </tr>\n",
       "    <tr>\n",
       "      <th>3</th>\n",
       "      <td>4</td>\n",
       "      <td>151.5</td>\n",
       "      <td>41.3</td>\n",
       "      <td>58.5</td>\n",
       "      <td>18.5</td>\n",
       "    </tr>\n",
       "    <tr>\n",
       "      <th>4</th>\n",
       "      <td>5</td>\n",
       "      <td>180.8</td>\n",
       "      <td>10.8</td>\n",
       "      <td>58.4</td>\n",
       "      <td>12.9</td>\n",
       "    </tr>\n",
       "  </tbody>\n",
       "</table>\n",
       "</div>"
      ],
      "text/plain": [
       "   Unnamed: 0     TV  radio  newspaper  sales\n",
       "0           1  230.1   37.8       69.2   22.1\n",
       "1           2   44.5   39.3       45.1   10.4\n",
       "2           3   17.2   45.9       69.3    9.3\n",
       "3           4  151.5   41.3       58.5   18.5\n",
       "4           5  180.8   10.8       58.4   12.9"
      ]
     },
     "execution_count": 66,
     "metadata": {},
     "output_type": "execute_result"
    }
   ],
   "source": [
    "datos.head()"
   ]
  },
  {
   "cell_type": "markdown",
   "id": "f81535ac-87ca-490e-89e7-0564c31f73f0",
   "metadata": {},
   "source": [
    "**¿Hay alguna relación entre el presupuesto para publicidad y las ventas?**\n",
    "\n",
    "Nuestra primera meta debe ser determinar si hay evidencia en los datos de que haya una asociación entre estas variables.\n",
    "\n",
    "- ¿Por qué? ¿Qué resultaría si nos diéramos cuenta de la falta de relación entre el presupuesto de publicidad y las ventas?"
   ]
  },
  {
   "cell_type": "markdown",
   "id": "68d193c6-bf5b-4dd9-bcab-f2aafa9c9b2b",
   "metadata": {},
   "source": [
    "podemos ver si vale la pena usar una regresion o no, si vemos el coeficiente o los coeficientes y son muy altos, no podemos asumir que son distintos de 0 por lo que tenemos que hacer una prueba de hipotesis para ya despues de eso hacer un analisis de como incrementar las ventas y en que tipo de publicidad influye mas."
   ]
  },
  {
   "cell_type": "markdown",
   "id": "3ff47351-fa8b-4c19-93ce-d68dce869913",
   "metadata": {},
   "source": [
    "**¿Qué tan fuerte es esta relación?**\n",
    "Asumiendo que existe esta relación, ¿nos sirve conocer el impacto que tiene invertir en publicidad en las ventas?"
   ]
  },
  {
   "cell_type": "markdown",
   "id": "d875c4b8-6203-4e12-947a-0a99f9832b2c",
   "metadata": {},
   "source": [
    "Claro, uno tiene que buscar siempre como mejorar las ventas y asi nos gastamos muchisimo menos dinero y no perdemos dinero. Por el otro lado si la relacion es muy fuerte y tenemos buenos coeficientes de $B1$, tenemos que invertirle mas dinero para conseguir mas clientes, ya luego retenerlos es otra cosa"
   ]
  },
  {
   "cell_type": "markdown",
   "id": "4cd03e68-778f-49cc-9161-a2fff241af56",
   "metadata": {},
   "source": [
    "**¿Cuáles medios están asociados con las ventas? ¿Qué tan grande es la asociación entre un medio específico y las ventas?**\n",
    "\n",
    "Hay 3 medios distintos en los datos. ¿Sirve invertir en los 3? ¿Conviene más invertir sólo en uno?\n",
    "\n",
    "**¿Qué tan seguros estamos de que podríamos predecir ventas futuras?**\n",
    "\n",
    "**¿La relación es lineal?**\n",
    "\n",
    "**¿Hay sinergia entre estos medios?**\n",
    "\n",
    "Puede ser que gastar \\\\$50,000 en publicidad y otros \\\\$50,000 en radio es mejor opción que gastar \\\\$100,000 en televisión. A esto le llamamos efecto de interacción.\n",
    "\n",
    "Podemos usar regresión lineal para responder todas estas preguntas."
   ]
  },
  {
   "cell_type": "markdown",
   "id": "cb3f1c79-027e-4af9-b61b-82e4a45df0bb",
   "metadata": {},
   "source": [
    "Realiza una regresión lineal:\n",
    "\n",
    "$$ \\text{ventas} \\approx \\beta_0 + (\\beta_1)(\\text{TV})$$"
   ]
  },
  {
   "cell_type": "code",
   "execution_count": 67,
   "id": "82dd5260-ff12-4261-b325-40f70c7e3783",
   "metadata": {},
   "outputs": [],
   "source": [
    "X=datos[\"TV\"].values.reshape(-1,1)\n",
    "x1=datos['newspaper'].values.reshape(-1,1)\n",
    "x2=datos['radio'].values.reshape(-1,1)\n",
    "y=datos['sales']"
   ]
  },
  {
   "cell_type": "code",
   "execution_count": 68,
   "id": "5c5d518d-a3da-4b63-acd9-0481b231408d",
   "metadata": {},
   "outputs": [
    {
     "data": {
      "text/html": [
       "<style>#sk-container-id-3 {\n",
       "  /* Definition of color scheme common for light and dark mode */\n",
       "  --sklearn-color-text: black;\n",
       "  --sklearn-color-line: gray;\n",
       "  /* Definition of color scheme for unfitted estimators */\n",
       "  --sklearn-color-unfitted-level-0: #fff5e6;\n",
       "  --sklearn-color-unfitted-level-1: #f6e4d2;\n",
       "  --sklearn-color-unfitted-level-2: #ffe0b3;\n",
       "  --sklearn-color-unfitted-level-3: chocolate;\n",
       "  /* Definition of color scheme for fitted estimators */\n",
       "  --sklearn-color-fitted-level-0: #f0f8ff;\n",
       "  --sklearn-color-fitted-level-1: #d4ebff;\n",
       "  --sklearn-color-fitted-level-2: #b3dbfd;\n",
       "  --sklearn-color-fitted-level-3: cornflowerblue;\n",
       "\n",
       "  /* Specific color for light theme */\n",
       "  --sklearn-color-text-on-default-background: var(--sg-text-color, var(--theme-code-foreground, var(--jp-content-font-color1, black)));\n",
       "  --sklearn-color-background: var(--sg-background-color, var(--theme-background, var(--jp-layout-color0, white)));\n",
       "  --sklearn-color-border-box: var(--sg-text-color, var(--theme-code-foreground, var(--jp-content-font-color1, black)));\n",
       "  --sklearn-color-icon: #696969;\n",
       "\n",
       "  @media (prefers-color-scheme: dark) {\n",
       "    /* Redefinition of color scheme for dark theme */\n",
       "    --sklearn-color-text-on-default-background: var(--sg-text-color, var(--theme-code-foreground, var(--jp-content-font-color1, white)));\n",
       "    --sklearn-color-background: var(--sg-background-color, var(--theme-background, var(--jp-layout-color0, #111)));\n",
       "    --sklearn-color-border-box: var(--sg-text-color, var(--theme-code-foreground, var(--jp-content-font-color1, white)));\n",
       "    --sklearn-color-icon: #878787;\n",
       "  }\n",
       "}\n",
       "\n",
       "#sk-container-id-3 {\n",
       "  color: var(--sklearn-color-text);\n",
       "}\n",
       "\n",
       "#sk-container-id-3 pre {\n",
       "  padding: 0;\n",
       "}\n",
       "\n",
       "#sk-container-id-3 input.sk-hidden--visually {\n",
       "  border: 0;\n",
       "  clip: rect(1px 1px 1px 1px);\n",
       "  clip: rect(1px, 1px, 1px, 1px);\n",
       "  height: 1px;\n",
       "  margin: -1px;\n",
       "  overflow: hidden;\n",
       "  padding: 0;\n",
       "  position: absolute;\n",
       "  width: 1px;\n",
       "}\n",
       "\n",
       "#sk-container-id-3 div.sk-dashed-wrapped {\n",
       "  border: 1px dashed var(--sklearn-color-line);\n",
       "  margin: 0 0.4em 0.5em 0.4em;\n",
       "  box-sizing: border-box;\n",
       "  padding-bottom: 0.4em;\n",
       "  background-color: var(--sklearn-color-background);\n",
       "}\n",
       "\n",
       "#sk-container-id-3 div.sk-container {\n",
       "  /* jupyter's `normalize.less` sets `[hidden] { display: none; }`\n",
       "     but bootstrap.min.css set `[hidden] { display: none !important; }`\n",
       "     so we also need the `!important` here to be able to override the\n",
       "     default hidden behavior on the sphinx rendered scikit-learn.org.\n",
       "     See: https://github.com/scikit-learn/scikit-learn/issues/21755 */\n",
       "  display: inline-block !important;\n",
       "  position: relative;\n",
       "}\n",
       "\n",
       "#sk-container-id-3 div.sk-text-repr-fallback {\n",
       "  display: none;\n",
       "}\n",
       "\n",
       "div.sk-parallel-item,\n",
       "div.sk-serial,\n",
       "div.sk-item {\n",
       "  /* draw centered vertical line to link estimators */\n",
       "  background-image: linear-gradient(var(--sklearn-color-text-on-default-background), var(--sklearn-color-text-on-default-background));\n",
       "  background-size: 2px 100%;\n",
       "  background-repeat: no-repeat;\n",
       "  background-position: center center;\n",
       "}\n",
       "\n",
       "/* Parallel-specific style estimator block */\n",
       "\n",
       "#sk-container-id-3 div.sk-parallel-item::after {\n",
       "  content: \"\";\n",
       "  width: 100%;\n",
       "  border-bottom: 2px solid var(--sklearn-color-text-on-default-background);\n",
       "  flex-grow: 1;\n",
       "}\n",
       "\n",
       "#sk-container-id-3 div.sk-parallel {\n",
       "  display: flex;\n",
       "  align-items: stretch;\n",
       "  justify-content: center;\n",
       "  background-color: var(--sklearn-color-background);\n",
       "  position: relative;\n",
       "}\n",
       "\n",
       "#sk-container-id-3 div.sk-parallel-item {\n",
       "  display: flex;\n",
       "  flex-direction: column;\n",
       "}\n",
       "\n",
       "#sk-container-id-3 div.sk-parallel-item:first-child::after {\n",
       "  align-self: flex-end;\n",
       "  width: 50%;\n",
       "}\n",
       "\n",
       "#sk-container-id-3 div.sk-parallel-item:last-child::after {\n",
       "  align-self: flex-start;\n",
       "  width: 50%;\n",
       "}\n",
       "\n",
       "#sk-container-id-3 div.sk-parallel-item:only-child::after {\n",
       "  width: 0;\n",
       "}\n",
       "\n",
       "/* Serial-specific style estimator block */\n",
       "\n",
       "#sk-container-id-3 div.sk-serial {\n",
       "  display: flex;\n",
       "  flex-direction: column;\n",
       "  align-items: center;\n",
       "  background-color: var(--sklearn-color-background);\n",
       "  padding-right: 1em;\n",
       "  padding-left: 1em;\n",
       "}\n",
       "\n",
       "\n",
       "/* Toggleable style: style used for estimator/Pipeline/ColumnTransformer box that is\n",
       "clickable and can be expanded/collapsed.\n",
       "- Pipeline and ColumnTransformer use this feature and define the default style\n",
       "- Estimators will overwrite some part of the style using the `sk-estimator` class\n",
       "*/\n",
       "\n",
       "/* Pipeline and ColumnTransformer style (default) */\n",
       "\n",
       "#sk-container-id-3 div.sk-toggleable {\n",
       "  /* Default theme specific background. It is overwritten whether we have a\n",
       "  specific estimator or a Pipeline/ColumnTransformer */\n",
       "  background-color: var(--sklearn-color-background);\n",
       "}\n",
       "\n",
       "/* Toggleable label */\n",
       "#sk-container-id-3 label.sk-toggleable__label {\n",
       "  cursor: pointer;\n",
       "  display: block;\n",
       "  width: 100%;\n",
       "  margin-bottom: 0;\n",
       "  padding: 0.5em;\n",
       "  box-sizing: border-box;\n",
       "  text-align: center;\n",
       "}\n",
       "\n",
       "#sk-container-id-3 label.sk-toggleable__label-arrow:before {\n",
       "  /* Arrow on the left of the label */\n",
       "  content: \"▸\";\n",
       "  float: left;\n",
       "  margin-right: 0.25em;\n",
       "  color: var(--sklearn-color-icon);\n",
       "}\n",
       "\n",
       "#sk-container-id-3 label.sk-toggleable__label-arrow:hover:before {\n",
       "  color: var(--sklearn-color-text);\n",
       "}\n",
       "\n",
       "/* Toggleable content - dropdown */\n",
       "\n",
       "#sk-container-id-3 div.sk-toggleable__content {\n",
       "  max-height: 0;\n",
       "  max-width: 0;\n",
       "  overflow: hidden;\n",
       "  text-align: left;\n",
       "  /* unfitted */\n",
       "  background-color: var(--sklearn-color-unfitted-level-0);\n",
       "}\n",
       "\n",
       "#sk-container-id-3 div.sk-toggleable__content.fitted {\n",
       "  /* fitted */\n",
       "  background-color: var(--sklearn-color-fitted-level-0);\n",
       "}\n",
       "\n",
       "#sk-container-id-3 div.sk-toggleable__content pre {\n",
       "  margin: 0.2em;\n",
       "  border-radius: 0.25em;\n",
       "  color: var(--sklearn-color-text);\n",
       "  /* unfitted */\n",
       "  background-color: var(--sklearn-color-unfitted-level-0);\n",
       "}\n",
       "\n",
       "#sk-container-id-3 div.sk-toggleable__content.fitted pre {\n",
       "  /* unfitted */\n",
       "  background-color: var(--sklearn-color-fitted-level-0);\n",
       "}\n",
       "\n",
       "#sk-container-id-3 input.sk-toggleable__control:checked~div.sk-toggleable__content {\n",
       "  /* Expand drop-down */\n",
       "  max-height: 200px;\n",
       "  max-width: 100%;\n",
       "  overflow: auto;\n",
       "}\n",
       "\n",
       "#sk-container-id-3 input.sk-toggleable__control:checked~label.sk-toggleable__label-arrow:before {\n",
       "  content: \"▾\";\n",
       "}\n",
       "\n",
       "/* Pipeline/ColumnTransformer-specific style */\n",
       "\n",
       "#sk-container-id-3 div.sk-label input.sk-toggleable__control:checked~label.sk-toggleable__label {\n",
       "  color: var(--sklearn-color-text);\n",
       "  background-color: var(--sklearn-color-unfitted-level-2);\n",
       "}\n",
       "\n",
       "#sk-container-id-3 div.sk-label.fitted input.sk-toggleable__control:checked~label.sk-toggleable__label {\n",
       "  background-color: var(--sklearn-color-fitted-level-2);\n",
       "}\n",
       "\n",
       "/* Estimator-specific style */\n",
       "\n",
       "/* Colorize estimator box */\n",
       "#sk-container-id-3 div.sk-estimator input.sk-toggleable__control:checked~label.sk-toggleable__label {\n",
       "  /* unfitted */\n",
       "  background-color: var(--sklearn-color-unfitted-level-2);\n",
       "}\n",
       "\n",
       "#sk-container-id-3 div.sk-estimator.fitted input.sk-toggleable__control:checked~label.sk-toggleable__label {\n",
       "  /* fitted */\n",
       "  background-color: var(--sklearn-color-fitted-level-2);\n",
       "}\n",
       "\n",
       "#sk-container-id-3 div.sk-label label.sk-toggleable__label,\n",
       "#sk-container-id-3 div.sk-label label {\n",
       "  /* The background is the default theme color */\n",
       "  color: var(--sklearn-color-text-on-default-background);\n",
       "}\n",
       "\n",
       "/* On hover, darken the color of the background */\n",
       "#sk-container-id-3 div.sk-label:hover label.sk-toggleable__label {\n",
       "  color: var(--sklearn-color-text);\n",
       "  background-color: var(--sklearn-color-unfitted-level-2);\n",
       "}\n",
       "\n",
       "/* Label box, darken color on hover, fitted */\n",
       "#sk-container-id-3 div.sk-label.fitted:hover label.sk-toggleable__label.fitted {\n",
       "  color: var(--sklearn-color-text);\n",
       "  background-color: var(--sklearn-color-fitted-level-2);\n",
       "}\n",
       "\n",
       "/* Estimator label */\n",
       "\n",
       "#sk-container-id-3 div.sk-label label {\n",
       "  font-family: monospace;\n",
       "  font-weight: bold;\n",
       "  display: inline-block;\n",
       "  line-height: 1.2em;\n",
       "}\n",
       "\n",
       "#sk-container-id-3 div.sk-label-container {\n",
       "  text-align: center;\n",
       "}\n",
       "\n",
       "/* Estimator-specific */\n",
       "#sk-container-id-3 div.sk-estimator {\n",
       "  font-family: monospace;\n",
       "  border: 1px dotted var(--sklearn-color-border-box);\n",
       "  border-radius: 0.25em;\n",
       "  box-sizing: border-box;\n",
       "  margin-bottom: 0.5em;\n",
       "  /* unfitted */\n",
       "  background-color: var(--sklearn-color-unfitted-level-0);\n",
       "}\n",
       "\n",
       "#sk-container-id-3 div.sk-estimator.fitted {\n",
       "  /* fitted */\n",
       "  background-color: var(--sklearn-color-fitted-level-0);\n",
       "}\n",
       "\n",
       "/* on hover */\n",
       "#sk-container-id-3 div.sk-estimator:hover {\n",
       "  /* unfitted */\n",
       "  background-color: var(--sklearn-color-unfitted-level-2);\n",
       "}\n",
       "\n",
       "#sk-container-id-3 div.sk-estimator.fitted:hover {\n",
       "  /* fitted */\n",
       "  background-color: var(--sklearn-color-fitted-level-2);\n",
       "}\n",
       "\n",
       "/* Specification for estimator info (e.g. \"i\" and \"?\") */\n",
       "\n",
       "/* Common style for \"i\" and \"?\" */\n",
       "\n",
       ".sk-estimator-doc-link,\n",
       "a:link.sk-estimator-doc-link,\n",
       "a:visited.sk-estimator-doc-link {\n",
       "  float: right;\n",
       "  font-size: smaller;\n",
       "  line-height: 1em;\n",
       "  font-family: monospace;\n",
       "  background-color: var(--sklearn-color-background);\n",
       "  border-radius: 1em;\n",
       "  height: 1em;\n",
       "  width: 1em;\n",
       "  text-decoration: none !important;\n",
       "  margin-left: 1ex;\n",
       "  /* unfitted */\n",
       "  border: var(--sklearn-color-unfitted-level-1) 1pt solid;\n",
       "  color: var(--sklearn-color-unfitted-level-1);\n",
       "}\n",
       "\n",
       ".sk-estimator-doc-link.fitted,\n",
       "a:link.sk-estimator-doc-link.fitted,\n",
       "a:visited.sk-estimator-doc-link.fitted {\n",
       "  /* fitted */\n",
       "  border: var(--sklearn-color-fitted-level-1) 1pt solid;\n",
       "  color: var(--sklearn-color-fitted-level-1);\n",
       "}\n",
       "\n",
       "/* On hover */\n",
       "div.sk-estimator:hover .sk-estimator-doc-link:hover,\n",
       ".sk-estimator-doc-link:hover,\n",
       "div.sk-label-container:hover .sk-estimator-doc-link:hover,\n",
       ".sk-estimator-doc-link:hover {\n",
       "  /* unfitted */\n",
       "  background-color: var(--sklearn-color-unfitted-level-3);\n",
       "  color: var(--sklearn-color-background);\n",
       "  text-decoration: none;\n",
       "}\n",
       "\n",
       "div.sk-estimator.fitted:hover .sk-estimator-doc-link.fitted:hover,\n",
       ".sk-estimator-doc-link.fitted:hover,\n",
       "div.sk-label-container:hover .sk-estimator-doc-link.fitted:hover,\n",
       ".sk-estimator-doc-link.fitted:hover {\n",
       "  /* fitted */\n",
       "  background-color: var(--sklearn-color-fitted-level-3);\n",
       "  color: var(--sklearn-color-background);\n",
       "  text-decoration: none;\n",
       "}\n",
       "\n",
       "/* Span, style for the box shown on hovering the info icon */\n",
       ".sk-estimator-doc-link span {\n",
       "  display: none;\n",
       "  z-index: 9999;\n",
       "  position: relative;\n",
       "  font-weight: normal;\n",
       "  right: .2ex;\n",
       "  padding: .5ex;\n",
       "  margin: .5ex;\n",
       "  width: min-content;\n",
       "  min-width: 20ex;\n",
       "  max-width: 50ex;\n",
       "  color: var(--sklearn-color-text);\n",
       "  box-shadow: 2pt 2pt 4pt #999;\n",
       "  /* unfitted */\n",
       "  background: var(--sklearn-color-unfitted-level-0);\n",
       "  border: .5pt solid var(--sklearn-color-unfitted-level-3);\n",
       "}\n",
       "\n",
       ".sk-estimator-doc-link.fitted span {\n",
       "  /* fitted */\n",
       "  background: var(--sklearn-color-fitted-level-0);\n",
       "  border: var(--sklearn-color-fitted-level-3);\n",
       "}\n",
       "\n",
       ".sk-estimator-doc-link:hover span {\n",
       "  display: block;\n",
       "}\n",
       "\n",
       "/* \"?\"-specific style due to the `<a>` HTML tag */\n",
       "\n",
       "#sk-container-id-3 a.estimator_doc_link {\n",
       "  float: right;\n",
       "  font-size: 1rem;\n",
       "  line-height: 1em;\n",
       "  font-family: monospace;\n",
       "  background-color: var(--sklearn-color-background);\n",
       "  border-radius: 1rem;\n",
       "  height: 1rem;\n",
       "  width: 1rem;\n",
       "  text-decoration: none;\n",
       "  /* unfitted */\n",
       "  color: var(--sklearn-color-unfitted-level-1);\n",
       "  border: var(--sklearn-color-unfitted-level-1) 1pt solid;\n",
       "}\n",
       "\n",
       "#sk-container-id-3 a.estimator_doc_link.fitted {\n",
       "  /* fitted */\n",
       "  border: var(--sklearn-color-fitted-level-1) 1pt solid;\n",
       "  color: var(--sklearn-color-fitted-level-1);\n",
       "}\n",
       "\n",
       "/* On hover */\n",
       "#sk-container-id-3 a.estimator_doc_link:hover {\n",
       "  /* unfitted */\n",
       "  background-color: var(--sklearn-color-unfitted-level-3);\n",
       "  color: var(--sklearn-color-background);\n",
       "  text-decoration: none;\n",
       "}\n",
       "\n",
       "#sk-container-id-3 a.estimator_doc_link.fitted:hover {\n",
       "  /* fitted */\n",
       "  background-color: var(--sklearn-color-fitted-level-3);\n",
       "}\n",
       "</style><div id=\"sk-container-id-3\" class=\"sk-top-container\"><div class=\"sk-text-repr-fallback\"><pre>LinearRegression()</pre><b>In a Jupyter environment, please rerun this cell to show the HTML representation or trust the notebook. <br />On GitHub, the HTML representation is unable to render, please try loading this page with nbviewer.org.</b></div><div class=\"sk-container\" hidden><div class=\"sk-item\"><div class=\"sk-estimator fitted sk-toggleable\"><input class=\"sk-toggleable__control sk-hidden--visually\" id=\"sk-estimator-id-3\" type=\"checkbox\" checked><label for=\"sk-estimator-id-3\" class=\"sk-toggleable__label fitted sk-toggleable__label-arrow fitted\">&nbsp;&nbsp;LinearRegression<a class=\"sk-estimator-doc-link fitted\" rel=\"noreferrer\" target=\"_blank\" href=\"https://scikit-learn.org/1.5/modules/generated/sklearn.linear_model.LinearRegression.html\">?<span>Documentation for LinearRegression</span></a><span class=\"sk-estimator-doc-link fitted\">i<span>Fitted</span></span></label><div class=\"sk-toggleable__content fitted\"><pre>LinearRegression()</pre></div> </div></div></div></div>"
      ],
      "text/plain": [
       "LinearRegression()"
      ]
     },
     "execution_count": 68,
     "metadata": {},
     "output_type": "execute_result"
    }
   ],
   "source": [
    "xfull=np.hstack([X,x1,x2])\n",
    "lr=LinearRegression ()\n",
    "lr.fit(X,y)"
   ]
  },
  {
   "cell_type": "code",
   "execution_count": 69,
   "id": "b7f11512-1a7e-4cda-869d-c6eb6847564c",
   "metadata": {},
   "outputs": [
    {
     "name": "stdout",
     "output_type": "stream",
     "text": [
      "[0.04753664]\n",
      "7.032593549127693\n",
      "0.611875050850071\n"
     ]
    }
   ],
   "source": [
    "print(lr.coef_)\n",
    "print(lr.intercept_)\n",
    "print(lr.score(X,y))"
   ]
  },
  {
   "cell_type": "markdown",
   "id": "a84ba655-7b09-482a-992f-02380dd54209",
   "metadata": {},
   "source": [
    "### Verificando la precisión de nuestros coeficientes estimados"
   ]
  },
  {
   "cell_type": "markdown",
   "id": "30733e87-7be2-477f-84c2-d430ad1a2a5d",
   "metadata": {},
   "source": [
    "Recuerda que en el mundo real hay ruidos y errores de medición. Siempre se asume que la verdadera relación entre $X$ y $Y$ es $$Y = \\beta_0 + \\beta_1 X + \\epsilon$$"
   ]
  },
  {
   "cell_type": "markdown",
   "id": "af33c415-790e-4e28-bcd5-8f94ac545822",
   "metadata": {},
   "source": [
    "Se asume que el término de error es independiente de $X$ (el error siempre es el mismo sin importar el valor de $X$). Este modelo describe a la *línea de regresión de la población*, que es la mejor aproximación de la verdadera relación entre $X$ y $Y$. Cuando usamos mínimos cuadrados encontramos la *línea de mínimos cuadrados*."
   ]
  },
  {
   "cell_type": "markdown",
   "id": "86d80b2d-2c96-4fa7-8348-29e8215e4e2e",
   "metadata": {},
   "source": [
    "¿Cuál es la diferencia entre población y muestra?"
   ]
  },
  {
   "cell_type": "markdown",
   "id": "ec345b97-255d-45a2-95ea-487212a02644",
   "metadata": {},
   "source": [
    "que la poblacion es todo el mundo, la muestra es una pequeña parte de la prueba y dependiendo de si calculamos bien nuestra muestra, podremos sacar un valor parecido a la poblacion aun que hay un error por que no tenemos absolutamente todos los datos."
   ]
  },
  {
   "cell_type": "markdown",
   "id": "ea74ba36-845f-44fe-89e4-442b66f44d9d",
   "metadata": {},
   "source": [
    "¿Cuál crees que sea la diferencia entre hacer una regresión con todos los datos de la población y una muestra de ella?"
   ]
  },
  {
   "cell_type": "markdown",
   "id": "1563051a-01a3-4a4e-bff2-f12c7d113b15",
   "metadata": {},
   "source": [
    "Que al hacer una regresion con todos los datos, no hay error y es una regresion total, en la funcion de y=f(x) + $E$ se elimina y es una regresion sin fallas, ahora al hacer una muestra, en cada dato se hace una distribucion normal de los datos que dependiendo de la desviacion estandar de la regresion y que tan alejados estan de la recta"
   ]
  },
  {
   "cell_type": "markdown",
   "id": "c123335b-5299-4f2e-ac8e-4b1e40754221",
   "metadata": {},
   "source": [
    "La línea de regresión de la población no se puede observar. El concepto de comparar estas líneas es una extensión natural del acercamiento estadístico estándar de usar información de una muestra para estimar características de una población grande."
   ]
  },
  {
   "cell_type": "markdown",
   "id": "5b0d26b9-18de-4467-a836-3f75b228a363",
   "metadata": {},
   "source": [
    "Imagina que quieres encontrar la altura promedio de un mexicano $\\mu$. Medir a todos y cada uno de los mexicanos en situaciones similares, con la misma regla, mismo operador, y otras incontables formas de minimizar la variación de la medida es una tarea imposible. Lo que podemos asumir es que $\\hat{\\mu} = \\bar{y}$. La media poblacional y la media muestral son diferentes, pero la media muestral es usualmente un buen estimado.\n",
    "\n",
    "De la misma manera, como no contamos con el 100% de la información para hacer una regresión, los coeficientes $\\beta_0$ y $\\beta_1$ son desconocidos. Podemos estimarlos usando mínimos cuadrados, encontrando $\\hat{\\beta_0}$ y $\\hat{\\beta_1}$. Puede que las muestras que tengamos en ese momento estén un poco por encima de la media, pero otras muestras en otro momento puede que estén debajo de la media. En general, esperamos que el promedio de las aproximaciones $\\hat{\\mu}$ aproxime a $\\mu$."
   ]
  },
  {
   "cell_type": "markdown",
   "id": "7fff6312-57a0-4c9f-aaa9-f22f6294c71c",
   "metadata": {},
   "source": [
    "Esto lleva a la pregunta: ¿qué tan cercanos son nuestros coeficientes estimados a los verdaderos coeficientes? Utilizamos el concepto de error estándar para evaluar esto.\n",
    "\n",
    "$$ \\text{Var}(\\hat{\\mu})=\\text{SE}(\\hat{\\mu})^2 = \\frac{\\sigma^2}{n} $$\n",
    "\n",
    "Donde $\\sigma$ es la desviación estándar de cada una de las observaciones $y_i$ de $Y$. El error estándar nos dice la cantidad promedio que el estimado difiere del valor verdadero. Podemos ver en la fórmula que entre más observaciones tengamos el error se hace más pequeño. Las fórmulas para errores estándar de $\\hat{\\beta_0}$ y $\\hat{\\beta_1}$ son:\n",
    "\n",
    "$$ \\text{SE}(\\hat{\\beta_0})^2 = \\sigma^2 [\\frac{1}{n} + \\frac{\\bar{x}^2}{\\sum_{i=1}^n (x_i - \\bar{x})^2}]$$\n",
    "\n",
    "$$ \\text{SE}(\\hat{\\beta_1})^2 = \\frac{\\sigma^2}{\\sum_{i=1}^n (x_i - \\bar{x})^2}$$\n",
    "\n",
    "$$ \\sigma^2 = \\text{Var}(\\epsilon) = \\text{RSE}^2 = \\frac{\\text{RSS}}{n-p}$$"
   ]
  },
  {
   "cell_type": "markdown",
   "id": "661b6d7c-2274-462f-92ff-0e7be8ca742d",
   "metadata": {},
   "source": [
    "Para que estas fórmulas sean validas asumimos que los errores $\\epsilon_i$ tienen varianza común $\\sigma^2$ y que no están correlacionados.\n",
    "\n",
    "Calcula los errores estándar de los coeficientes"
   ]
  },
  {
   "cell_type": "code",
   "execution_count": 70,
   "id": "07843e5d-fa42-4266-9dda-7701a5700f07",
   "metadata": {},
   "outputs": [],
   "source": [
    "xM=np.mean(X)\n",
    "yM=np.mean(y)\n",
    "n=len(y)\n",
    "TSS=np.sum((y-yM)**2) \n",
    "RSS=abs((lr.score(X,y)-1)*TSS)\n",
    "yV=abs(RSS)/(n-2)\n",
    "SE02=yV*(1/n + (xM**2)/np.sum((X-xM)**2))\n",
    "SE12=yV/np.sum((X-xM)**2)"
   ]
  },
  {
   "cell_type": "code",
   "execution_count": 71,
   "id": "c0f7beeb-3e18-419f-b0f1-29b47569ca11",
   "metadata": {},
   "outputs": [
    {
     "name": "stdout",
     "output_type": "stream",
     "text": [
      "5417.14875\n",
      "2102.5305831313517\n",
      "10.618841328946221\n",
      "0.45784294027347855\n",
      "0.0026906071877968707\n"
     ]
    }
   ],
   "source": [
    "print(TSS)\n",
    "print(RSS)\n",
    "print(yV)\n",
    "SE0= np.sqrt(SE02)\n",
    "SE1=np.sqrt(SE12)\n",
    "print(SE0)\n",
    "print(SE1)"
   ]
  },
  {
   "cell_type": "markdown",
   "id": "9c2711ec-2380-4bce-ac68-007378e7b76c",
   "metadata": {},
   "source": [
    "Estos errores se pueden usar para calcular intervalos de confianza. Un intervalo de confianza del $95\\%$ se define como un rango de valores en el cuál se encuentra el desconocido valor verdadero con un $95\\%$ de probabilidad.\n",
    "\n",
    "Otra forma de verlo es que si tomamos muestras repetidas y construimos un intervalo de confianza para cada una, el $95\\%$ de los intervalos creados van a contener el valor verdadero. Para la regresión el intervalo de confianza del $95\\%$ toma la forma:\n",
    "\n",
    "$$ \\hat{\\beta_j} \\pm 2\\text{SE}(\\hat{\\beta_j})$$"
   ]
  },
  {
   "cell_type": "markdown",
   "id": "a71aed31-b058-4217-8d45-9686b9611511",
   "metadata": {},
   "source": [
    "Calcula los intervalos de confianza para los coeficientes estimados:"
   ]
  },
  {
   "cell_type": "code",
   "execution_count": 72,
   "id": "8b725487-4e48-471d-9c5a-547e7e176334",
   "metadata": {},
   "outputs": [],
   "source": [
    "Boin_upper=lr.intercept_+2*SE0\n",
    "Boin_lower=lr.intercept_-2*SE0"
   ]
  },
  {
   "cell_type": "code",
   "execution_count": 73,
   "id": "b8173bfb-0766-4888-8c4b-2367cafde0c9",
   "metadata": {},
   "outputs": [],
   "source": [
    "B1in_upper=lr.coef_+(2*SE1)\n",
    "B1in_lower=lr.coef_-(2*SE1)"
   ]
  },
  {
   "cell_type": "code",
   "execution_count": 74,
   "id": "e2681447-fa5c-4057-90c2-a32faa1d7277",
   "metadata": {},
   "outputs": [
    {
     "name": "stdout",
     "output_type": "stream",
     "text": [
      "7.94827942967465 6.116907668580736 [0.05291785] [0.04215543]\n"
     ]
    }
   ],
   "source": [
    "print(Boin_upper,Boin_lower,\n",
    "B1in_upper,B1in_lower)"
   ]
  },
  {
   "cell_type": "markdown",
   "id": "da3b3100-fb87-42de-9e74-75c72464bb7b",
   "metadata": {},
   "source": [
    "Los errores estándar también se usan para realizar pruebas de hipótesis. La prueba de hipótesis más común es probar la hipótesis nula de:\n",
    "\n",
    "$$ H_0: \\text{No hay relación entre } X \\text{ y } Y \\ \\ \\ \\ (\\beta_1=0)$$"
   ]
  },
  {
   "cell_type": "markdown",
   "id": "a1ef288e-55fe-45fb-bb86-4bef282b5947",
   "metadata": {},
   "source": [
    "contra la hipótesis alternativa:\n",
    "$$ H_A: \\text{Hay alguna relación entre } X \\text{ y } Y \\ \\ \\ (\\beta_1 \\neq 0)$$"
   ]
  },
  {
   "cell_type": "markdown",
   "id": "eaf0c27a-4a67-450c-b2ce-a65958938c25",
   "metadata": {},
   "source": [
    "Explica con tus palabras el significado de la hipótesis nula y la hipótesis alternativa."
   ]
  },
  {
   "cell_type": "markdown",
   "id": "41f7cb88-88a5-462f-84ec-6019911ebb64",
   "metadata": {},
   "source": [
    "Cuando hacemos una prueba de hipotesis, uno siempre busca rechazar la hipotesis nula que en este caso es mostrar que si es estadisticamente significativo el valor de B1 o de otra forma, distinto de 0"
   ]
  },
  {
   "cell_type": "markdown",
   "id": "cc6404ea-89ae-45f0-9935-67dbd53b78c6",
   "metadata": {},
   "source": [
    "Para probal la hipótesis nula debemos determinar si nuestro estimado $\\hat{\\beta_1}$ de $\\beta_1$ está lo suficientemente alejado de cero para que podamos decir con confianza que este valor no es cero. \n",
    "\n",
    "¿Qué tan lejos? Depende de qué tanta confianza tengamos en el estimado encontrado. Si nuestro error estándar es pequeño y nuestro estimado está alejado de cero podríamos decir que hay muy poca probabilidad de que el valor verdadero sea 0. En cambio, si nuestro error estándar es grande y nuestro estimado está muy cerca de cero, entonces podrías ser que el valor verdadero sea cero y que no haya relación entre las variables."
   ]
  },
  {
   "cell_type": "markdown",
   "id": "96161b14-6a16-41ea-aec8-0394f729447d",
   "metadata": {},
   "source": [
    "Se calcula un *estadístico t* dado por\n",
    "$$ t = \\frac{\\hat{\\beta_j} - \\mu}{\\text{SE}(\\hat{\\beta_j})} $$"
   ]
  },
  {
   "cell_type": "markdown",
   "id": "4f04296d-854b-4fcb-9c79-6b23b516f2f3",
   "metadata": {},
   "source": [
    "donde $\\mu$ es el valor contra el que queremos probar.\n",
    "\n",
    "Calcula el estadístico t para tus coeficientes estimados, usando como referencia la prueba de hipótesis."
   ]
  },
  {
   "cell_type": "code",
   "execution_count": 75,
   "id": "68f15e0c-6c64-4ff5-a03c-8d72b639db7f",
   "metadata": {},
   "outputs": [
    {
     "name": "stdout",
     "output_type": "stream",
     "text": [
      "[17.6676256]\n"
     ]
    }
   ],
   "source": [
    "t=lr.coef_/SE1\n",
    "print(t)"
   ]
  },
  {
   "cell_type": "markdown",
   "id": "7737b123-f4c5-403c-92f2-4800c79107d9",
   "metadata": {},
   "source": [
    "La distribución t tiene forma de campana y se parece bastante a la distribución normal cuando $n > 30$. Ya sólo es cuestión de calcular la probabilidad de observar cualquier número tal que su valor absoluto sea igual o mayor que el valor absoluto del estadístico t calculado. En otras palabras:\n",
    "$$ P(|x| \\geq |t|) $$"
   ]
  },
  {
   "cell_type": "markdown",
   "id": "6bb2ccf1-b4b1-4c0c-a15b-d4fdd2f4552a",
   "metadata": {},
   "source": [
    "A esta probabilidad la llamamos *p-value*. Un *p-value* pequeño indica que es poco probable que exista por puro azar una relación significativa entre predictor y respuesta, en caso de que no haya una asociación real entre predictor y respuesta. En otras palabras, el *p-value* te dice la probabilidad de que parezca que hay relación cuando no la hay.\n",
    "\n",
    "Si el *p-value* es pequeño, inferimos que sí hay una asociación entre el predictor y la respuesta, y **rechazamos la hipótesis nula**.\n",
    "  "
   ]
  },
  {
   "cell_type": "markdown",
   "id": "c7f17065-a71d-4322-8782-3e805df65d29",
   "metadata": {},
   "source": [
    "¿Qué tan pequeño? Depende de la aplicación. Un valor muy común es del $5\\%$.\n",
    "\n",
    "Utiliza el siguiente código para calcular el *p-value* para tus coeficientes\n",
    "\n",
    "`from scipy import stats`\n",
    "\n",
    "`p_bj = 2*(1 - stats.t.cdf(np.abs(t_bj), n-p))`"
   ]
  },
  {
   "cell_type": "code",
   "execution_count": 76,
   "id": "7a542d04-f9cb-4ea2-9af1-ca79d1539860",
   "metadata": {},
   "outputs": [],
   "source": [
    "from scipy import stats\n",
    "p_bj=2*(1-stats.t.cdf(np.abs(t),n-1))"
   ]
  },
  {
   "cell_type": "code",
   "execution_count": 77,
   "id": "18100af3-810f-4bce-8e9c-85e3aeda8b53",
   "metadata": {},
   "outputs": [
    {
     "name": "stdout",
     "output_type": "stream",
     "text": [
      "[0.] 14.0225 10.618841328946221\n"
     ]
    }
   ],
   "source": [
    "print(p_bj,\n",
    "yM,\n",
    "yV)"
   ]
  },
  {
   "cell_type": "markdown",
   "id": "2be9ad17-db40-405e-b88a-d0af8a05aacf",
   "metadata": {},
   "source": [
    "¿Se rechaza la hipótesis nula? ¿Qué significa?"
   ]
  },
  {
   "cell_type": "markdown",
   "id": "261f861e-f191-47f8-9510-7444ab416756",
   "metadata": {},
   "source": [
    "el valor estimado esta alejado de 0 y nuestra prueba de t nos da casi 0 por lo que no rechazamos la hipotesis nula, esto significa que podemos asumir con un 90% de confianza que B0 es igual a 0  "
   ]
  },
  {
   "cell_type": "markdown",
   "id": "3a994d1a-6187-491c-a518-7971cebe3c0a",
   "metadata": {},
   "source": [
    "Realiza otras dos regresiones. Ya tienes hecha la regresión de ventas dado el gasto en publicidad de TV. Realiza la regresión para gastos en radio y gastos en periódico. Organiza las respuestas para que debajo de esta celda se tenga:\n",
    "- Título de regresión\n",
    "- Coeficientes estimados\n",
    "- Errores estándar de los coeficientes\n",
    "- Intervalos de confianza\n",
    "- Estadísticos t\n",
    "- p-values\n",
    "- Observaciones"
   ]
  },
  {
   "cell_type": "markdown",
   "id": "c5de05dd",
   "metadata": {},
   "source": [
    "## Esta es la regresion de las ventas con la publicidad de la radio"
   ]
  },
  {
   "cell_type": "code",
   "execution_count": 78,
   "id": "166901b6-333e-49f2-bd64-52f13d866e1e",
   "metadata": {},
   "outputs": [
    {
     "name": "stdout",
     "output_type": "stream",
     "text": [
      "[0.0546931]\n",
      "12.35140706927816\n",
      "0.05212044544430516\n"
     ]
    }
   ],
   "source": [
    "x=np.hstack([x1])\n",
    "lr.fit(x,y)\n",
    "print(lr.coef_)\n",
    "print(lr.intercept_)\n",
    "print(lr.score(x,y))"
   ]
  },
  {
   "cell_type": "code",
   "execution_count": 79,
   "id": "cbfaed5f-f044-43e4-90b7-29144d8b8f0f",
   "metadata": {},
   "outputs": [],
   "source": [
    "xM=np.mean(X)\n",
    "yM=np.mean(y)\n",
    "n=len(y)\n",
    "TSS=np.sum((y-yM)**2) \n",
    "RSS=abs((lr.score(X,y)-1)*TSS)\n",
    "yV=abs(RSS)/(n-2)\n",
    "SE02=yV*(1/n + (xM**2)/np.sum((X-xM)**2))\n",
    "SE12=yV/np.sum((X-xM)**2)"
   ]
  },
  {
   "cell_type": "code",
   "execution_count": 80,
   "id": "5d65ed89-7878-416a-a412-e83aa4a3a390",
   "metadata": {},
   "outputs": [
    {
     "name": "stdout",
     "output_type": "stream",
     "text": [
      "5417.14875\n",
      "10295.879929858309\n",
      "51.999393585142975\n",
      "1.0131578079771122\n",
      "0.005954027988042014\n"
     ]
    }
   ],
   "source": [
    "print(TSS)\n",
    "print(RSS)\n",
    "print(yV)\n",
    "SE0= np.sqrt(SE02)\n",
    "SE1=np.sqrt(SE12)\n",
    "print(SE0)\n",
    "print(SE1)"
   ]
  },
  {
   "cell_type": "code",
   "execution_count": 81,
   "id": "8c4fa27b",
   "metadata": {},
   "outputs": [
    {
     "name": "stdout",
     "output_type": "stream",
     "text": [
      "14.377722685232385 10.325091453323935 [0.06660115] [0.04278504]\n"
     ]
    }
   ],
   "source": [
    "Boin_upper=lr.intercept_+2*SE0\n",
    "Boin_lower=lr.intercept_-2*SE0\n",
    "B1in_upper=lr.coef_+(2*SE1)\n",
    "B1in_lower=lr.coef_-(2*SE1)\n",
    "print(Boin_upper,Boin_lower,\n",
    "B1in_upper,B1in_lower)"
   ]
  },
  {
   "cell_type": "code",
   "execution_count": 82,
   "id": "9ed924ca",
   "metadata": {},
   "outputs": [
    {
     "name": "stdout",
     "output_type": "stream",
     "text": [
      "[9.18589879]\n",
      "[0.] 14.0225 51.999393585142975\n"
     ]
    }
   ],
   "source": [
    "t=lr.coef_/SE1\n",
    "print(t)\n",
    "from scipy import stats\n",
    "p_bj=2*(1-stats.t.cdf(np.abs(t),n-1))\n",
    "print(p_bj,\n",
    "yM,\n",
    "yV)"
   ]
  },
  {
   "cell_type": "markdown",
   "id": "c696b27b",
   "metadata": {},
   "source": [
    "## y por ultimo la regresion de las ventas con el periodico "
   ]
  },
  {
   "cell_type": "code",
   "execution_count": 83,
   "id": "880c1969",
   "metadata": {},
   "outputs": [
    {
     "name": "stdout",
     "output_type": "stream",
     "text": [
      "[0.20249578]\n",
      "9.311638095158283\n",
      "0.33203245544529525\n"
     ]
    }
   ],
   "source": [
    "x=np.hstack([x2])\n",
    "lr.fit(x,y)\n",
    "print(lr.coef_)\n",
    "print(lr.intercept_)\n",
    "print(lr.score(x,y))"
   ]
  },
  {
   "cell_type": "code",
   "execution_count": 84,
   "id": "de59ef0a",
   "metadata": {},
   "outputs": [],
   "source": [
    "xM=np.mean(X)\n",
    "yM=np.mean(y)\n",
    "n=len(y)\n",
    "TSS=np.sum((y-yM)**2) \n",
    "RSS=abs((lr.score(X,y)-1)*TSS)\n",
    "yV=abs(RSS)/(n-2)\n",
    "SE02=yV*(1/n + (xM**2)/np.sum((X-xM)**2))\n",
    "SE12=yV/np.sum((X-xM)**2)"
   ]
  },
  {
   "cell_type": "code",
   "execution_count": 85,
   "id": "e832239f",
   "metadata": {},
   "outputs": [
    {
     "name": "stdout",
     "output_type": "stream",
     "text": [
      "5417.14875\n",
      "162971.36044026565\n",
      "823.0876789912406\n",
      "4.030890555292411\n",
      "0.023688348442839426\n"
     ]
    }
   ],
   "source": [
    "print(TSS)\n",
    "print(RSS)\n",
    "print(yV)\n",
    "SE0= np.sqrt(SE02)\n",
    "SE1=np.sqrt(SE12)\n",
    "print(SE0)\n",
    "print(SE1)"
   ]
  },
  {
   "cell_type": "code",
   "execution_count": 86,
   "id": "19c6df65",
   "metadata": {},
   "outputs": [
    {
     "name": "stdout",
     "output_type": "stream",
     "text": [
      "17.373419205743104 1.2498569845734622 [0.24987248] [0.15511909]\n"
     ]
    }
   ],
   "source": [
    "Boin_upper=lr.intercept_+2*SE0\n",
    "Boin_lower=lr.intercept_-2*SE0\n",
    "B1in_upper=lr.coef_+(2*SE1)\n",
    "B1in_lower=lr.coef_-(2*SE1)\n",
    "print(Boin_upper,Boin_lower,\n",
    "B1in_upper,B1in_lower)"
   ]
  },
  {
   "cell_type": "code",
   "execution_count": 87,
   "id": "61b62023",
   "metadata": {},
   "outputs": [
    {
     "name": "stdout",
     "output_type": "stream",
     "text": [
      "[8.54832847]\n",
      "[3.33066907e-15] 14.0225 823.0876789912406\n"
     ]
    }
   ],
   "source": [
    "t=lr.coef_/SE1\n",
    "print(t)\n",
    "from scipy import stats\n",
    "p_bj=2*(1-stats.t.cdf(np.abs(t),n-1))\n",
    "print(p_bj,\n",
    "yM,\n",
    "yV)"
   ]
  },
  {
   "cell_type": "markdown",
   "id": "556988ae-3656-428d-817b-76f9e1534f46",
   "metadata": {},
   "source": [
    "## Regresión lineal múltiple"
   ]
  },
  {
   "cell_type": "markdown",
   "id": "943698d8-7f84-4245-8be3-e4c8f34be5da",
   "metadata": {},
   "source": [
    "En lugar de hacer una regresión para cada factor independiente, quizás se puede extender el modelo para que tenga varios factores dentro:\n",
    "\n",
    "$$ Y = \\beta_0 + \\beta_1 X_1 + \\beta_2 X_2 + ... + \\beta_p X_p + \\epsilon $$\n",
    "\n",
    "Para nuestro ejemplo de publicidad:\n",
    "\n",
    "$$ \\text{sales} = \\beta_0 + \\beta_1 (\\text{TV}) + \\beta_2 (\\text{radio}) + \\beta_3 (\\text{newspaper}) + \\epsilon $$"
   ]
  },
  {
   "cell_type": "markdown",
   "id": "df8cd89a-0c25-4e1d-9213-292807e17ccf",
   "metadata": {},
   "source": [
    "Utiliza la librería `statsmodels` para realizar la regresión. Por defecto la librería statsmodels no toma en cuenta el intercepto ($\\beta_0$), por lo que se tendrá que agregar una columna de unos de tamaño *n* a la matriz X.\n",
    "\n",
    "`import statsmodels.api as sm`\n",
    "\n",
    "`ols = sm.OLS(Y, X)`\n",
    "\n",
    "`results = ols.fit()`\n",
    "\n",
    "`results.summary()`"
   ]
  },
  {
   "cell_type": "code",
   "execution_count": null,
   "id": "022522eb-2c18-435e-b51b-4ed5a5c54669",
   "metadata": {},
   "outputs": [
    {
     "name": "stdout",
     "output_type": "stream",
     "text": [
      "[ 0.          0.04576465 -0.00103749  0.18853002]\n",
      "2.9388893694594103\n",
      "0.8972106381789522\n"
     ]
    }
   ],
   "source": [
    "ones=np.ones([n,1])\n",
    "X=datos[\"TV\"].values.reshape(-1,1)\n",
    "x1=datos['newspaper'].values.reshape(-1,1)\n",
    "x2=datos['newspaper'].values.reshape(-1,1)\n",
    "xfull=np.hstack([ones,X,x1,x2])\n",
    "y=datos['sales']\n",
    "lr.fit(xfull,y)\n",
    "print(lr.coef_)\n",
    "print(lr.intercept_)\n",
    "print(lr.score(xfull,y))"
   ]
  },
  {
   "cell_type": "code",
   "execution_count": 89,
   "id": "a7a3bd74-0f56-4199-a327-278c3ec9919e",
   "metadata": {},
   "outputs": [
    {
     "data": {
      "text/html": [
       "<table class=\"simpletable\">\n",
       "<caption>OLS Regression Results</caption>\n",
       "<tr>\n",
       "  <th>Dep. Variable:</th>          <td>sales</td>      <th>  R-squared:         </th> <td>   0.897</td>\n",
       "</tr>\n",
       "<tr>\n",
       "  <th>Model:</th>                   <td>OLS</td>       <th>  Adj. R-squared:    </th> <td>   0.896</td>\n",
       "</tr>\n",
       "<tr>\n",
       "  <th>Method:</th>             <td>Least Squares</td>  <th>  F-statistic:       </th> <td>   570.3</td>\n",
       "</tr>\n",
       "<tr>\n",
       "  <th>Date:</th>             <td>Thu, 28 Aug 2025</td> <th>  Prob (F-statistic):</th> <td>1.58e-96</td>\n",
       "</tr>\n",
       "<tr>\n",
       "  <th>Time:</th>                 <td>17:43:19</td>     <th>  Log-Likelihood:    </th> <td> -386.18</td>\n",
       "</tr>\n",
       "<tr>\n",
       "  <th>No. Observations:</th>      <td>   200</td>      <th>  AIC:               </th> <td>   780.4</td>\n",
       "</tr>\n",
       "<tr>\n",
       "  <th>Df Residuals:</th>          <td>   196</td>      <th>  BIC:               </th> <td>   793.6</td>\n",
       "</tr>\n",
       "<tr>\n",
       "  <th>Df Model:</th>              <td>     3</td>      <th>                     </th>     <td> </td>   \n",
       "</tr>\n",
       "<tr>\n",
       "  <th>Covariance Type:</th>      <td>nonrobust</td>    <th>                     </th>     <td> </td>   \n",
       "</tr>\n",
       "</table>\n",
       "<table class=\"simpletable\">\n",
       "<tr>\n",
       "    <td></td>       <th>coef</th>     <th>std err</th>      <th>t</th>      <th>P>|t|</th>  <th>[0.025</th>    <th>0.975]</th>  \n",
       "</tr>\n",
       "<tr>\n",
       "  <th>const</th> <td>    2.9389</td> <td>    0.312</td> <td>    9.422</td> <td> 0.000</td> <td>    2.324</td> <td>    3.554</td>\n",
       "</tr>\n",
       "<tr>\n",
       "  <th>x1</th>    <td>    0.0458</td> <td>    0.001</td> <td>   32.809</td> <td> 0.000</td> <td>    0.043</td> <td>    0.049</td>\n",
       "</tr>\n",
       "<tr>\n",
       "  <th>x2</th>    <td>   -0.0010</td> <td>    0.006</td> <td>   -0.177</td> <td> 0.860</td> <td>   -0.013</td> <td>    0.011</td>\n",
       "</tr>\n",
       "<tr>\n",
       "  <th>x3</th>    <td>    0.1885</td> <td>    0.009</td> <td>   21.893</td> <td> 0.000</td> <td>    0.172</td> <td>    0.206</td>\n",
       "</tr>\n",
       "</table>\n",
       "<table class=\"simpletable\">\n",
       "<tr>\n",
       "  <th>Omnibus:</th>       <td>60.414</td> <th>  Durbin-Watson:     </th> <td>   2.084</td>\n",
       "</tr>\n",
       "<tr>\n",
       "  <th>Prob(Omnibus):</th> <td> 0.000</td> <th>  Jarque-Bera (JB):  </th> <td> 151.241</td>\n",
       "</tr>\n",
       "<tr>\n",
       "  <th>Skew:</th>          <td>-1.327</td> <th>  Prob(JB):          </th> <td>1.44e-33</td>\n",
       "</tr>\n",
       "<tr>\n",
       "  <th>Kurtosis:</th>      <td> 6.332</td> <th>  Cond. No.          </th> <td>    454.</td>\n",
       "</tr>\n",
       "</table><br/><br/>Notes:<br/>[1] Standard Errors assume that the covariance matrix of the errors is correctly specified."
      ],
      "text/latex": [
       "\\begin{center}\n",
       "\\begin{tabular}{lclc}\n",
       "\\toprule\n",
       "\\textbf{Dep. Variable:}    &      sales       & \\textbf{  R-squared:         } &     0.897   \\\\\n",
       "\\textbf{Model:}            &       OLS        & \\textbf{  Adj. R-squared:    } &     0.896   \\\\\n",
       "\\textbf{Method:}           &  Least Squares   & \\textbf{  F-statistic:       } &     570.3   \\\\\n",
       "\\textbf{Date:}             & Thu, 28 Aug 2025 & \\textbf{  Prob (F-statistic):} &  1.58e-96   \\\\\n",
       "\\textbf{Time:}             &     17:43:19     & \\textbf{  Log-Likelihood:    } &   -386.18   \\\\\n",
       "\\textbf{No. Observations:} &         200      & \\textbf{  AIC:               } &     780.4   \\\\\n",
       "\\textbf{Df Residuals:}     &         196      & \\textbf{  BIC:               } &     793.6   \\\\\n",
       "\\textbf{Df Model:}         &           3      & \\textbf{                     } &             \\\\\n",
       "\\textbf{Covariance Type:}  &    nonrobust     & \\textbf{                     } &             \\\\\n",
       "\\bottomrule\n",
       "\\end{tabular}\n",
       "\\begin{tabular}{lcccccc}\n",
       "               & \\textbf{coef} & \\textbf{std err} & \\textbf{t} & \\textbf{P$> |$t$|$} & \\textbf{[0.025} & \\textbf{0.975]}  \\\\\n",
       "\\midrule\n",
       "\\textbf{const} &       2.9389  &        0.312     &     9.422  &         0.000        &        2.324    &        3.554     \\\\\n",
       "\\textbf{x1}    &       0.0458  &        0.001     &    32.809  &         0.000        &        0.043    &        0.049     \\\\\n",
       "\\textbf{x2}    &      -0.0010  &        0.006     &    -0.177  &         0.860        &       -0.013    &        0.011     \\\\\n",
       "\\textbf{x3}    &       0.1885  &        0.009     &    21.893  &         0.000        &        0.172    &        0.206     \\\\\n",
       "\\bottomrule\n",
       "\\end{tabular}\n",
       "\\begin{tabular}{lclc}\n",
       "\\textbf{Omnibus:}       & 60.414 & \\textbf{  Durbin-Watson:     } &    2.084  \\\\\n",
       "\\textbf{Prob(Omnibus):} &  0.000 & \\textbf{  Jarque-Bera (JB):  } &  151.241  \\\\\n",
       "\\textbf{Skew:}          & -1.327 & \\textbf{  Prob(JB):          } & 1.44e-33  \\\\\n",
       "\\textbf{Kurtosis:}      &  6.332 & \\textbf{  Cond. No.          } &     454.  \\\\\n",
       "\\bottomrule\n",
       "\\end{tabular}\n",
       "%\\caption{OLS Regression Results}\n",
       "\\end{center}\n",
       "\n",
       "Notes: \\newline\n",
       " [1] Standard Errors assume that the covariance matrix of the errors is correctly specified."
      ],
      "text/plain": [
       "<class 'statsmodels.iolib.summary.Summary'>\n",
       "\"\"\"\n",
       "                            OLS Regression Results                            \n",
       "==============================================================================\n",
       "Dep. Variable:                  sales   R-squared:                       0.897\n",
       "Model:                            OLS   Adj. R-squared:                  0.896\n",
       "Method:                 Least Squares   F-statistic:                     570.3\n",
       "Date:                Thu, 28 Aug 2025   Prob (F-statistic):           1.58e-96\n",
       "Time:                        17:43:19   Log-Likelihood:                -386.18\n",
       "No. Observations:                 200   AIC:                             780.4\n",
       "Df Residuals:                     196   BIC:                             793.6\n",
       "Df Model:                           3                                         \n",
       "Covariance Type:            nonrobust                                         \n",
       "==============================================================================\n",
       "                 coef    std err          t      P>|t|      [0.025      0.975]\n",
       "------------------------------------------------------------------------------\n",
       "const          2.9389      0.312      9.422      0.000       2.324       3.554\n",
       "x1             0.0458      0.001     32.809      0.000       0.043       0.049\n",
       "x2            -0.0010      0.006     -0.177      0.860      -0.013       0.011\n",
       "x3             0.1885      0.009     21.893      0.000       0.172       0.206\n",
       "==============================================================================\n",
       "Omnibus:                       60.414   Durbin-Watson:                   2.084\n",
       "Prob(Omnibus):                  0.000   Jarque-Bera (JB):              151.241\n",
       "Skew:                          -1.327   Prob(JB):                     1.44e-33\n",
       "Kurtosis:                       6.332   Cond. No.                         454.\n",
       "==============================================================================\n",
       "\n",
       "Notes:\n",
       "[1] Standard Errors assume that the covariance matrix of the errors is correctly specified.\n",
       "\"\"\""
      ]
     },
     "execution_count": 89,
     "metadata": {},
     "output_type": "execute_result"
    }
   ],
   "source": [
    "import statsmodels.api as sm\n",
    "ols= sm.OLS(y,xfull)\n",
    "results=ols.fit()\n",
    "results.summary()"
   ]
  },
  {
   "cell_type": "code",
   "execution_count": 90,
   "id": "0aaca5c0",
   "metadata": {},
   "outputs": [
    {
     "name": "stdout",
     "output_type": "stream",
     "text": [
      "[0.         0.04576711 0.15600099 0.00066767]\n",
      "3.155796590644222\n",
      "0.8977739777342808\n"
     ]
    },
    {
     "data": {
      "text/html": [
       "<table class=\"simpletable\">\n",
       "<caption>OLS Regression Results</caption>\n",
       "<tr>\n",
       "  <th>Dep. Variable:</th>          <td>sales</td>      <th>  R-squared:         </th> <td>   0.898</td>\n",
       "</tr>\n",
       "<tr>\n",
       "  <th>Model:</th>                   <td>OLS</td>       <th>  Adj. R-squared:    </th> <td>   0.896</td>\n",
       "</tr>\n",
       "<tr>\n",
       "  <th>Method:</th>             <td>Least Squares</td>  <th>  F-statistic:       </th> <td>   573.8</td>\n",
       "</tr>\n",
       "<tr>\n",
       "  <th>Date:</th>             <td>Thu, 28 Aug 2025</td> <th>  Prob (F-statistic):</th> <td>9.20e-97</td>\n",
       "</tr>\n",
       "<tr>\n",
       "  <th>Time:</th>                 <td>17:43:19</td>     <th>  Log-Likelihood:    </th> <td> -385.63</td>\n",
       "</tr>\n",
       "<tr>\n",
       "  <th>No. Observations:</th>      <td>   200</td>      <th>  AIC:               </th> <td>   779.3</td>\n",
       "</tr>\n",
       "<tr>\n",
       "  <th>Df Residuals:</th>          <td>   196</td>      <th>  BIC:               </th> <td>   792.5</td>\n",
       "</tr>\n",
       "<tr>\n",
       "  <th>Df Model:</th>              <td>     3</td>      <th>                     </th>     <td> </td>   \n",
       "</tr>\n",
       "<tr>\n",
       "  <th>Covariance Type:</th>      <td>nonrobust</td>    <th>                     </th>     <td> </td>   \n",
       "</tr>\n",
       "</table>\n",
       "<table class=\"simpletable\">\n",
       "<tr>\n",
       "    <td></td>       <th>coef</th>     <th>std err</th>      <th>t</th>      <th>P>|t|</th>  <th>[0.025</th>    <th>0.975]</th>  \n",
       "</tr>\n",
       "<tr>\n",
       "  <th>const</th> <td>    3.1558</td> <td>    0.369</td> <td>    8.550</td> <td> 0.000</td> <td>    2.428</td> <td>    3.884</td>\n",
       "</tr>\n",
       "<tr>\n",
       "  <th>x1</th>    <td>    0.0458</td> <td>    0.001</td> <td>   32.926</td> <td> 0.000</td> <td>    0.043</td> <td>    0.049</td>\n",
       "</tr>\n",
       "<tr>\n",
       "  <th>x2</th>    <td>    0.1560</td> <td>    0.031</td> <td>    4.969</td> <td> 0.000</td> <td>    0.094</td> <td>    0.218</td>\n",
       "</tr>\n",
       "<tr>\n",
       "  <th>x3</th>    <td>    0.0007</td> <td>    0.001</td> <td>    1.054</td> <td> 0.293</td> <td>   -0.001</td> <td>    0.002</td>\n",
       "</tr>\n",
       "</table>\n",
       "<table class=\"simpletable\">\n",
       "<tr>\n",
       "  <th>Omnibus:</th>       <td>66.663</td> <th>  Durbin-Watson:     </th> <td>   2.075</td>\n",
       "</tr>\n",
       "<tr>\n",
       "  <th>Prob(Omnibus):</th> <td> 0.000</td> <th>  Jarque-Bera (JB):  </th> <td> 173.446</td>\n",
       "</tr>\n",
       "<tr>\n",
       "  <th>Skew:</th>          <td>-1.456</td> <th>  Prob(JB):          </th> <td>2.17e-38</td>\n",
       "</tr>\n",
       "<tr>\n",
       "  <th>Kurtosis:</th>      <td> 6.513</td> <th>  Cond. No.          </th> <td>3.31e+03</td>\n",
       "</tr>\n",
       "</table><br/><br/>Notes:<br/>[1] Standard Errors assume that the covariance matrix of the errors is correctly specified.<br/>[2] The condition number is large, 3.31e+03. This might indicate that there are<br/>strong multicollinearity or other numerical problems."
      ],
      "text/latex": [
       "\\begin{center}\n",
       "\\begin{tabular}{lclc}\n",
       "\\toprule\n",
       "\\textbf{Dep. Variable:}    &      sales       & \\textbf{  R-squared:         } &     0.898   \\\\\n",
       "\\textbf{Model:}            &       OLS        & \\textbf{  Adj. R-squared:    } &     0.896   \\\\\n",
       "\\textbf{Method:}           &  Least Squares   & \\textbf{  F-statistic:       } &     573.8   \\\\\n",
       "\\textbf{Date:}             & Thu, 28 Aug 2025 & \\textbf{  Prob (F-statistic):} &  9.20e-97   \\\\\n",
       "\\textbf{Time:}             &     17:43:19     & \\textbf{  Log-Likelihood:    } &   -385.63   \\\\\n",
       "\\textbf{No. Observations:} &         200      & \\textbf{  AIC:               } &     779.3   \\\\\n",
       "\\textbf{Df Residuals:}     &         196      & \\textbf{  BIC:               } &     792.5   \\\\\n",
       "\\textbf{Df Model:}         &           3      & \\textbf{                     } &             \\\\\n",
       "\\textbf{Covariance Type:}  &    nonrobust     & \\textbf{                     } &             \\\\\n",
       "\\bottomrule\n",
       "\\end{tabular}\n",
       "\\begin{tabular}{lcccccc}\n",
       "               & \\textbf{coef} & \\textbf{std err} & \\textbf{t} & \\textbf{P$> |$t$|$} & \\textbf{[0.025} & \\textbf{0.975]}  \\\\\n",
       "\\midrule\n",
       "\\textbf{const} &       3.1558  &        0.369     &     8.550  &         0.000        &        2.428    &        3.884     \\\\\n",
       "\\textbf{x1}    &       0.0458  &        0.001     &    32.926  &         0.000        &        0.043    &        0.049     \\\\\n",
       "\\textbf{x2}    &       0.1560  &        0.031     &     4.969  &         0.000        &        0.094    &        0.218     \\\\\n",
       "\\textbf{x3}    &       0.0007  &        0.001     &     1.054  &         0.293        &       -0.001    &        0.002     \\\\\n",
       "\\bottomrule\n",
       "\\end{tabular}\n",
       "\\begin{tabular}{lclc}\n",
       "\\textbf{Omnibus:}       & 66.663 & \\textbf{  Durbin-Watson:     } &    2.075  \\\\\n",
       "\\textbf{Prob(Omnibus):} &  0.000 & \\textbf{  Jarque-Bera (JB):  } &  173.446  \\\\\n",
       "\\textbf{Skew:}          & -1.456 & \\textbf{  Prob(JB):          } & 2.17e-38  \\\\\n",
       "\\textbf{Kurtosis:}      &  6.513 & \\textbf{  Cond. No.          } & 3.31e+03  \\\\\n",
       "\\bottomrule\n",
       "\\end{tabular}\n",
       "%\\caption{OLS Regression Results}\n",
       "\\end{center}\n",
       "\n",
       "Notes: \\newline\n",
       " [1] Standard Errors assume that the covariance matrix of the errors is correctly specified. \\newline\n",
       " [2] The condition number is large, 3.31e+03. This might indicate that there are \\newline\n",
       " strong multicollinearity or other numerical problems."
      ],
      "text/plain": [
       "<class 'statsmodels.iolib.summary.Summary'>\n",
       "\"\"\"\n",
       "                            OLS Regression Results                            \n",
       "==============================================================================\n",
       "Dep. Variable:                  sales   R-squared:                       0.898\n",
       "Model:                            OLS   Adj. R-squared:                  0.896\n",
       "Method:                 Least Squares   F-statistic:                     573.8\n",
       "Date:                Thu, 28 Aug 2025   Prob (F-statistic):           9.20e-97\n",
       "Time:                        17:43:19   Log-Likelihood:                -385.63\n",
       "No. Observations:                 200   AIC:                             779.3\n",
       "Df Residuals:                     196   BIC:                             792.5\n",
       "Df Model:                           3                                         \n",
       "Covariance Type:            nonrobust                                         \n",
       "==============================================================================\n",
       "                 coef    std err          t      P>|t|      [0.025      0.975]\n",
       "------------------------------------------------------------------------------\n",
       "const          3.1558      0.369      8.550      0.000       2.428       3.884\n",
       "x1             0.0458      0.001     32.926      0.000       0.043       0.049\n",
       "x2             0.1560      0.031      4.969      0.000       0.094       0.218\n",
       "x3             0.0007      0.001      1.054      0.293      -0.001       0.002\n",
       "==============================================================================\n",
       "Omnibus:                       66.663   Durbin-Watson:                   2.075\n",
       "Prob(Omnibus):                  0.000   Jarque-Bera (JB):              173.446\n",
       "Skew:                          -1.456   Prob(JB):                     2.17e-38\n",
       "Kurtosis:                       6.513   Cond. No.                     3.31e+03\n",
       "==============================================================================\n",
       "\n",
       "Notes:\n",
       "[1] Standard Errors assume that the covariance matrix of the errors is correctly specified.\n",
       "[2] The condition number is large, 3.31e+03. This might indicate that there are\n",
       "strong multicollinearity or other numerical problems.\n",
       "\"\"\""
      ]
     },
     "execution_count": 90,
     "metadata": {},
     "output_type": "execute_result"
    }
   ],
   "source": [
    "ones=np.ones([n,1])\n",
    "X=datos[\"TV\"].values.reshape(-1,1)\n",
    "x1=datos['radio'].values.reshape(-1,1)\n",
    "xfull=np.hstack([ones,X,x1,x*x1])\n",
    "y=datos['sales']\n",
    "lr.fit(xfull,y)\n",
    "print(lr.coef_)\n",
    "print(lr.intercept_)\n",
    "print(lr.score(xfull,y))\n",
    "import statsmodels.api as sm\n",
    "ols= sm.OLS(y,xfull)\n",
    "results=ols.fit()\n",
    "results.summary()"
   ]
  },
  {
   "cell_type": "code",
   "execution_count": 91,
   "id": "9b4c43db",
   "metadata": {},
   "outputs": [
    {
     "name": "stdout",
     "output_type": "stream",
     "text": [
      "[ 0.00000000e+00  1.90802845e-02  2.27935933e-02  2.92087996e-03\n",
      " -5.40569150e-05  1.08650187e-03  1.45552558e-04]\n",
      "6.739028384867179\n",
      "0.9678503333428412\n"
     ]
    },
    {
     "data": {
      "text/html": [
       "<table class=\"simpletable\">\n",
       "<caption>OLS Regression Results</caption>\n",
       "<tr>\n",
       "  <th>Dep. Variable:</th>          <td>sales</td>      <th>  R-squared:         </th> <td>   0.968</td> \n",
       "</tr>\n",
       "<tr>\n",
       "  <th>Model:</th>                   <td>OLS</td>       <th>  Adj. R-squared:    </th> <td>   0.967</td> \n",
       "</tr>\n",
       "<tr>\n",
       "  <th>Method:</th>             <td>Least Squares</td>  <th>  F-statistic:       </th> <td>   968.4</td> \n",
       "</tr>\n",
       "<tr>\n",
       "  <th>Date:</th>             <td>Thu, 28 Aug 2025</td> <th>  Prob (F-statistic):</th> <td>3.94e-141</td>\n",
       "</tr>\n",
       "<tr>\n",
       "  <th>Time:</th>                 <td>17:46:24</td>     <th>  Log-Likelihood:    </th> <td> -269.95</td> \n",
       "</tr>\n",
       "<tr>\n",
       "  <th>No. Observations:</th>      <td>   200</td>      <th>  AIC:               </th> <td>   553.9</td> \n",
       "</tr>\n",
       "<tr>\n",
       "  <th>Df Residuals:</th>          <td>   193</td>      <th>  BIC:               </th> <td>   577.0</td> \n",
       "</tr>\n",
       "<tr>\n",
       "  <th>Df Model:</th>              <td>     6</td>      <th>                     </th>     <td> </td>    \n",
       "</tr>\n",
       "<tr>\n",
       "  <th>Covariance Type:</th>      <td>nonrobust</td>    <th>                     </th>     <td> </td>    \n",
       "</tr>\n",
       "</table>\n",
       "<table class=\"simpletable\">\n",
       "<tr>\n",
       "    <td></td>       <th>coef</th>     <th>std err</th>      <th>t</th>      <th>P>|t|</th>  <th>[0.025</th>    <th>0.975]</th>  \n",
       "</tr>\n",
       "<tr>\n",
       "  <th>const</th> <td>    6.7390</td> <td>    0.311</td> <td>   21.652</td> <td> 0.000</td> <td>    6.125</td> <td>    7.353</td>\n",
       "</tr>\n",
       "<tr>\n",
       "  <th>x1</th>    <td>    0.0191</td> <td>    0.002</td> <td>   12.520</td> <td> 0.000</td> <td>    0.016</td> <td>    0.022</td>\n",
       "</tr>\n",
       "<tr>\n",
       "  <th>x2</th>    <td>    0.0228</td> <td>    0.019</td> <td>    1.196</td> <td> 0.233</td> <td>   -0.015</td> <td>    0.060</td>\n",
       "</tr>\n",
       "<tr>\n",
       "  <th>x3</th>    <td>    0.0029</td> <td>    0.008</td> <td>    0.372</td> <td> 0.710</td> <td>   -0.013</td> <td>    0.018</td>\n",
       "</tr>\n",
       "<tr>\n",
       "  <th>x4</th>    <td>-5.406e-05</td> <td>    0.000</td> <td>   -0.221</td> <td> 0.825</td> <td>   -0.001</td> <td>    0.000</td>\n",
       "</tr>\n",
       "<tr>\n",
       "  <th>x5</th>    <td>    0.0011</td> <td>  5.3e-05</td> <td>   20.492</td> <td> 0.000</td> <td>    0.001</td> <td>    0.001</td>\n",
       "</tr>\n",
       "<tr>\n",
       "  <th>x6</th>    <td>    0.0001</td> <td>    0.000</td> <td>    0.391</td> <td> 0.696</td> <td>   -0.001</td> <td>    0.001</td>\n",
       "</tr>\n",
       "</table>\n",
       "<table class=\"simpletable\">\n",
       "<tr>\n",
       "  <th>Omnibus:</th>       <td>126.945</td> <th>  Durbin-Watson:     </th> <td>   2.209</td> \n",
       "</tr>\n",
       "<tr>\n",
       "  <th>Prob(Omnibus):</th> <td> 0.000</td>  <th>  Jarque-Bera (JB):  </th> <td>1150.750</td> \n",
       "</tr>\n",
       "<tr>\n",
       "  <th>Skew:</th>          <td>-2.302</td>  <th>  Prob(JB):          </th> <td>1.31e-250</td>\n",
       "</tr>\n",
       "<tr>\n",
       "  <th>Kurtosis:</th>      <td>13.812</td>  <th>  Cond. No.          </th> <td>2.32e+04</td> \n",
       "</tr>\n",
       "</table><br/><br/>Notes:<br/>[1] Standard Errors assume that the covariance matrix of the errors is correctly specified.<br/>[2] The condition number is large, 2.32e+04. This might indicate that there are<br/>strong multicollinearity or other numerical problems."
      ],
      "text/latex": [
       "\\begin{center}\n",
       "\\begin{tabular}{lclc}\n",
       "\\toprule\n",
       "\\textbf{Dep. Variable:}    &      sales       & \\textbf{  R-squared:         } &     0.968   \\\\\n",
       "\\textbf{Model:}            &       OLS        & \\textbf{  Adj. R-squared:    } &     0.967   \\\\\n",
       "\\textbf{Method:}           &  Least Squares   & \\textbf{  F-statistic:       } &     968.4   \\\\\n",
       "\\textbf{Date:}             & Thu, 28 Aug 2025 & \\textbf{  Prob (F-statistic):} & 3.94e-141   \\\\\n",
       "\\textbf{Time:}             &     17:46:24     & \\textbf{  Log-Likelihood:    } &   -269.95   \\\\\n",
       "\\textbf{No. Observations:} &         200      & \\textbf{  AIC:               } &     553.9   \\\\\n",
       "\\textbf{Df Residuals:}     &         193      & \\textbf{  BIC:               } &     577.0   \\\\\n",
       "\\textbf{Df Model:}         &           6      & \\textbf{                     } &             \\\\\n",
       "\\textbf{Covariance Type:}  &    nonrobust     & \\textbf{                     } &             \\\\\n",
       "\\bottomrule\n",
       "\\end{tabular}\n",
       "\\begin{tabular}{lcccccc}\n",
       "               & \\textbf{coef} & \\textbf{std err} & \\textbf{t} & \\textbf{P$> |$t$|$} & \\textbf{[0.025} & \\textbf{0.975]}  \\\\\n",
       "\\midrule\n",
       "\\textbf{const} &       6.7390  &        0.311     &    21.652  &         0.000        &        6.125    &        7.353     \\\\\n",
       "\\textbf{x1}    &       0.0191  &        0.002     &    12.520  &         0.000        &        0.016    &        0.022     \\\\\n",
       "\\textbf{x2}    &       0.0228  &        0.019     &     1.196  &         0.233        &       -0.015    &        0.060     \\\\\n",
       "\\textbf{x3}    &       0.0029  &        0.008     &     0.372  &         0.710        &       -0.013    &        0.018     \\\\\n",
       "\\textbf{x4}    &   -5.406e-05  &        0.000     &    -0.221  &         0.825        &       -0.001    &        0.000     \\\\\n",
       "\\textbf{x5}    &       0.0011  &      5.3e-05     &    20.492  &         0.000        &        0.001    &        0.001     \\\\\n",
       "\\textbf{x6}    &       0.0001  &        0.000     &     0.391  &         0.696        &       -0.001    &        0.001     \\\\\n",
       "\\bottomrule\n",
       "\\end{tabular}\n",
       "\\begin{tabular}{lclc}\n",
       "\\textbf{Omnibus:}       & 126.945 & \\textbf{  Durbin-Watson:     } &     2.209  \\\\\n",
       "\\textbf{Prob(Omnibus):} &   0.000 & \\textbf{  Jarque-Bera (JB):  } &  1150.750  \\\\\n",
       "\\textbf{Skew:}          &  -2.302 & \\textbf{  Prob(JB):          } & 1.31e-250  \\\\\n",
       "\\textbf{Kurtosis:}      &  13.812 & \\textbf{  Cond. No.          } &  2.32e+04  \\\\\n",
       "\\bottomrule\n",
       "\\end{tabular}\n",
       "%\\caption{OLS Regression Results}\n",
       "\\end{center}\n",
       "\n",
       "Notes: \\newline\n",
       " [1] Standard Errors assume that the covariance matrix of the errors is correctly specified. \\newline\n",
       " [2] The condition number is large, 2.32e+04. This might indicate that there are \\newline\n",
       " strong multicollinearity or other numerical problems."
      ],
      "text/plain": [
       "<class 'statsmodels.iolib.summary.Summary'>\n",
       "\"\"\"\n",
       "                            OLS Regression Results                            \n",
       "==============================================================================\n",
       "Dep. Variable:                  sales   R-squared:                       0.968\n",
       "Model:                            OLS   Adj. R-squared:                  0.967\n",
       "Method:                 Least Squares   F-statistic:                     968.4\n",
       "Date:                Thu, 28 Aug 2025   Prob (F-statistic):          3.94e-141\n",
       "Time:                        17:46:24   Log-Likelihood:                -269.95\n",
       "No. Observations:                 200   AIC:                             553.9\n",
       "Df Residuals:                     193   BIC:                             577.0\n",
       "Df Model:                           6                                         \n",
       "Covariance Type:            nonrobust                                         \n",
       "==============================================================================\n",
       "                 coef    std err          t      P>|t|      [0.025      0.975]\n",
       "------------------------------------------------------------------------------\n",
       "const          6.7390      0.311     21.652      0.000       6.125       7.353\n",
       "x1             0.0191      0.002     12.520      0.000       0.016       0.022\n",
       "x2             0.0228      0.019      1.196      0.233      -0.015       0.060\n",
       "x3             0.0029      0.008      0.372      0.710      -0.013       0.018\n",
       "x4         -5.406e-05      0.000     -0.221      0.825      -0.001       0.000\n",
       "x5             0.0011    5.3e-05     20.492      0.000       0.001       0.001\n",
       "x6             0.0001      0.000      0.391      0.696      -0.001       0.001\n",
       "==============================================================================\n",
       "Omnibus:                      126.945   Durbin-Watson:                   2.209\n",
       "Prob(Omnibus):                  0.000   Jarque-Bera (JB):             1150.750\n",
       "Skew:                          -2.302   Prob(JB):                    1.31e-250\n",
       "Kurtosis:                      13.812   Cond. No.                     2.32e+04\n",
       "==============================================================================\n",
       "\n",
       "Notes:\n",
       "[1] Standard Errors assume that the covariance matrix of the errors is correctly specified.\n",
       "[2] The condition number is large, 2.32e+04. This might indicate that there are\n",
       "strong multicollinearity or other numerical problems.\n",
       "\"\"\""
      ]
     },
     "execution_count": 91,
     "metadata": {},
     "output_type": "execute_result"
    }
   ],
   "source": [
    "x2=datos['newspaper'].values.reshape(-1,1)\n",
    "xfull=np.hstack([ones,X,x1,x2, x1*x2,X*x1,x*x1])\n",
    "lr.fit(xfull,y)\n",
    "print(lr.coef_)\n",
    "print(lr.intercept_)\n",
    "print(lr.score(xfull,y))\n",
    "import statsmodels.api as sm\n",
    "ols= sm.OLS(y,xfull)\n",
    "results=ols.fit()\n",
    "results.summary()"
   ]
  },
  {
   "cell_type": "markdown",
   "id": "df0f403f-b246-4706-a4c6-5f17be224048",
   "metadata": {},
   "source": [
    "### ¿Qué diferencias puedes observar entre los *p-values* de una regresión múltiple y los encontrados en las regresiones simples? ¿Por qué crees que existen estas diferencias?"
   ]
  },
  {
   "cell_type": "markdown",
   "id": "ca597716-79ca-45b4-9629-5c9bddc125e8",
   "metadata": {},
   "source": [
    "Al tener mas informacion, nuestro analisis es mucho mas amplio y nos da informacion que haciendo regresiones con cada x no nos daba, ahora podemos ver que el periodico es insignificante por que nuestro $p-values$ sale de 0.86 pero los demas si son distintos de 0 y si son estadisticamente significativos para nuestra regresion."
   ]
  },
  {
   "cell_type": "markdown",
   "id": "3898858d-5dda-42ae-b458-b5e7fcd2df76",
   "metadata": {},
   "source": [
    "## Referencia\n",
    "\n",
    "James, G., Witten, D., Hastie, T., Tibshirani, R.,, Taylor, J. (2023). An Introduction to Statistical Learning with Applications in Python. Cham: Springer. ISBN: 978-3-031-38746-3"
   ]
  },
  {
   "cell_type": "markdown",
   "id": "8a72b870-2174-4ea9-adac-260d6aa97067",
   "metadata": {},
   "source": [
    "## Addendum"
   ]
  },
  {
   "cell_type": "markdown",
   "id": "8dacc515-40ee-4ac8-a6f6-9e1a22b97313",
   "metadata": {},
   "source": [
    "Para calcular los *p-values* de los parámetros sin `statsmodels`:\n",
    "1. Calcular RSS\n",
    "2. Calcular RSE\n",
    "3. `var_beta = np.linalg.inv(X.T @ X) * rse**2` (X con columna de intercepto)\n",
    "4. `std_beta = np.sqrt(var_beta.diagonal())` El orden de los valores corresponde al orden de los factores en las columnas de la matriz $X$.\n",
    "5. Calcular *estadístico t*\n",
    "6. Calcular *p-value*"
   ]
  }
 ],
 "metadata": {
  "kernelspec": {
   "display_name": "base",
   "language": "python",
   "name": "python3"
  },
  "language_info": {
   "codemirror_mode": {
    "name": "ipython",
    "version": 3
   },
   "file_extension": ".py",
   "mimetype": "text/x-python",
   "name": "python",
   "nbconvert_exporter": "python",
   "pygments_lexer": "ipython3",
   "version": "3.12.7"
  }
 },
 "nbformat": 4,
 "nbformat_minor": 5
}
